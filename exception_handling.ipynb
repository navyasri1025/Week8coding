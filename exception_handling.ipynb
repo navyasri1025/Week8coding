{
  "nbformat": 4,
  "nbformat_minor": 0,
  "metadata": {
    "colab": {
      "provenance": [],
      "authorship_tag": "ABX9TyPM3bNK+EMVnloQHnjExmSl",
      "include_colab_link": true
    },
    "kernelspec": {
      "name": "python3",
      "display_name": "Python 3"
    },
    "language_info": {
      "name": "python"
    }
  },
  "cells": [
    {
      "cell_type": "markdown",
      "metadata": {
        "id": "view-in-github",
        "colab_type": "text"
      },
      "source": [
        "<a href=\"https://colab.research.google.com/github/navyasri1025/Week8coding/blob/main/exception_handling.ipynb\" target=\"_parent\"><img src=\"https://colab.research.google.com/assets/colab-badge.svg\" alt=\"Open In Colab\"/></a>"
      ]
    },
    {
      "cell_type": "code",
      "source": [
        "print(5+10)\n",
        "print(5/5)\n",
        "#print(5/0)\n",
        "print(1+1)\n",
        "try:\n",
        "  print(5/0)\n",
        "except:\n",
        "  print(\"Hey ,you will get an error\")"
      ],
      "metadata": {
        "colab": {
          "base_uri": "https://localhost:8080/"
        },
        "id": "wpn_MQ-EUJhO",
        "outputId": "cd6d9591-531d-4232-93aa-0bd82d1baa6e"
      },
      "execution_count": 1,
      "outputs": [
        {
          "output_type": "stream",
          "name": "stdout",
          "text": [
            "15\n",
            "1.0\n",
            "2\n",
            "Hey ,you will get an error\n"
          ]
        }
      ]
    },
    {
      "cell_type": "code",
      "source": [
        "numerator = float(input(\"Enter the numerator: \"))\n",
        "denominator = float(input(\"Enter the denominator: \"))\n",
        "if denominator == 0:\n",
        "    raise ZeroDivisionError(\"Error: Denominator cannot be zero.\")\n",
        "else:\n",
        "    quotient = numerator / denominator\n",
        "    print(\"Quotient:\", quotient)"
      ],
      "metadata": {
        "colab": {
          "base_uri": "https://localhost:8080/"
        },
        "id": "PxGq6lHmUQLG",
        "outputId": "e4abd783-aa8b-42f1-e263-a24bc30b3649"
      },
      "execution_count": 2,
      "outputs": [
        {
          "output_type": "stream",
          "name": "stdout",
          "text": [
            "Enter the numerator: 40\n",
            "Enter the denominator: 50\n",
            "Quotient: 0.8\n"
          ]
        }
      ]
    },
    {
      "cell_type": "code",
      "source": [
        "#Q)Write a program to create 3 truth tables using for loop\n",
        "#AND GATE\n",
        "\n",
        "inputs=[0,1]\n",
        "print(\"X |  Y  | X & Y |\")\n",
        "print(\"-----------------\")\n",
        "for X in inputs:\n",
        "  for Y in inputs:\n",
        "    output = X and Y\n",
        "    print(f\"{X} |  {Y}  |  {output}  |\")"
      ],
      "metadata": {
        "colab": {
          "base_uri": "https://localhost:8080/"
        },
        "id": "MHxKCZPHUZe6",
        "outputId": "fedbe12f-801a-4b34-89d7-79c7e91c64b1"
      },
      "execution_count": 12,
      "outputs": [
        {
          "output_type": "stream",
          "name": "stdout",
          "text": [
            "X |  Y  | X & Y |\n",
            "-----------------\n",
            "0 |  0  |  0  |\n",
            "0 |  1  |  0  |\n",
            "1 |  0  |  0  |\n",
            "1 |  1  |  1  |\n"
          ]
        }
      ]
    },
    {
      "cell_type": "code",
      "source": [
        "inputs=[0,1]\n",
        "print(\"X | Y | X  OR Y |\")\n",
        "print(\"-------------\")\n",
        "for X in inputs:\n",
        "  for Y in inputs:\n",
        "    output = X or Y\n",
        "    print(f\"{X} | {Y}  |  {output} |\")"
      ],
      "metadata": {
        "colab": {
          "base_uri": "https://localhost:8080/"
        },
        "id": "E3T9xzt_U8Ue",
        "outputId": "5b4c95a1-9bb9-4a82-a136-4cf0b6589d51"
      },
      "execution_count": 14,
      "outputs": [
        {
          "output_type": "stream",
          "name": "stdout",
          "text": [
            "X | Y | X  OR Y |\n",
            "-------------\n",
            "0 | 0  |  0 |\n",
            "0 | 1  |  1 |\n",
            "1 | 0  |  1 |\n",
            "1 | 1  |  1 |\n"
          ]
        }
      ]
    },
    {
      "cell_type": "code",
      "source": [
        "inputs=[0,1]\n",
        "print(\"X | NOT X \")\n",
        "print(\"--------\")\n",
        "for X in inputs:\n",
        "    output = not X\n",
        "    print(f\"{X} | {Y} |  {output}   \")"
      ],
      "metadata": {
        "colab": {
          "base_uri": "https://localhost:8080/"
        },
        "id": "_1KYuMGpVHAF",
        "outputId": "4e0b2999-8b90-4dcf-c894-ace861e31535"
      },
      "execution_count": 19,
      "outputs": [
        {
          "output_type": "stream",
          "name": "stdout",
          "text": [
            "X | NOT X \n",
            "--------\n",
            "0 | 1 |  True   \n",
            "1 | 1 |  False   \n"
          ]
        }
      ]
    },
    {
      "cell_type": "code",
      "source": [
        "input = [0,1]\n",
        "print(\"X Y Z | X+Y.Z\")\n",
        "print(\"-------------\")\n",
        "for X in input:\n",
        "  for Y in input:\n",
        "    for Z in input:\n",
        "      output = X+(Y*Z)\n",
        "      print(f\"{X} {Y} {Z} | {output}\")"
      ],
      "metadata": {
        "colab": {
          "base_uri": "https://localhost:8080/"
        },
        "id": "bOh9oRkVVbFV",
        "outputId": "5d26fa52-53f1-4273-ea13-0c4667f273c6"
      },
      "execution_count": 21,
      "outputs": [
        {
          "output_type": "stream",
          "name": "stdout",
          "text": [
            "X Y Z | X+Y.Z\n",
            "-------------\n",
            "0 0 0 | 0\n",
            "0 0 1 | 0\n",
            "0 1 0 | 0\n",
            "0 1 1 | 1\n",
            "1 0 0 | 1\n",
            "1 0 1 | 1\n",
            "1 1 0 | 1\n",
            "1 1 1 | 2\n"
          ]
        }
      ]
    }
  ]
}